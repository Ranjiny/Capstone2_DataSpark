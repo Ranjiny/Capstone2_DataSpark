{
 "cells": [
  {
   "cell_type": "markdown",
   "id": "1512b982-90e7-40d6-be6b-5a7c976e3cb5",
   "metadata": {},
   "source": [
    "**Reading data from csv**"
   ]
  },
  {
   "cell_type": "code",
   "execution_count": null,
   "id": "b8bdec57-3aed-4bce-b0cd-3474001fa520",
   "metadata": {},
   "outputs": [],
   "source": [
    "# 1.Data Cleaning and Preparation for Customers.csv\n",
    "import pandas as pd\n",
    "#Load the customer.csv into dataframe\n",
    "customer_df=pd.read_csv(r'C:\\Users\\USER\\Guvi python\\Dataspark\\Customers.csv',encoding='unicode_escape')\n",
    "#Check is null values ae present\n",
    "print(customer_df.isnull().sum()) \n",
    "# Drop column as it the duplicate of State column\n",
    "customer_df.drop(['State Code'],axis=1,inplace=True) \n",
    "customer_df.dropna(inplace=True)\n",
    "# to check the datatypes\n",
    "print(customer_df.info())\n",
    "#Change the datatype for the date column\n",
    "customer_df['Birthday']=pd.to_datetime(customer_df['Birthday'],errors='coerce')\n",
    "#print(customer_df.isnull().sum())\n",
    "#Write the cleaned data into '.csv' file\n",
    "customer_df.to_csv('CleanedCustomer.csv')\n",
    "customer_df"
   ]
  },
  {
   "cell_type": "code",
   "execution_count": null,
   "id": "aa5877ce-0c41-41b7-a7d5-6456f75f79b1",
   "metadata": {},
   "outputs": [],
   "source": [
    "# 2.Data Cleaning and Preparation for Exchange_Rates.csv\n",
    "#Load the Exchange_Rates.csv file into the dataframe\n",
    "exchange_rates_df=pd.read_csv(r'C:\\Users\\USER\\Guvi python\\Dataspark\\Exchange_Rates.csv',encoding='unicode_escape')\n",
    "# To check missing values\n",
    "print(exchange_rates_df.isnull().sum())\n",
    "# To check the datatypes\n",
    "print(exchange_rates_df.info())\n",
    "#Changing the datatype for date column\n",
    "exchange_rates_df['Date']=pd.to_datetime(exchange_rates_df['Date'],errors='coerce')\n",
    "#Renaming the Currency column to match the Sales.csv\n",
    "exchange_rates_df.rename(columns={'Currency': 'Currency Code'}, inplace=True)\n",
    "#print(exchange_rates_df.info())\n",
    "#Write the cleaned data into '.csv' file\n",
    "exchange_rates_df.to_csv('CleanedExchangeRates.csv')\n",
    "exchange_rates_df"
   ]
  },
  {
   "cell_type": "code",
   "execution_count": null,
   "id": "59212e4e-b0e2-45a1-bd45-4a2b537edb4d",
   "metadata": {},
   "outputs": [],
   "source": [
    "# 3.Data Cleaning and Preparation for Products.csv\n",
    "#Load the Products.csv into dataframe\n",
    "products_df=pd.read_csv(r'C:\\Users\\USER\\Guvi python\\Dataspark\\Products.csv',encoding='unicode_escape')\n",
    "print(products_df.isnull().sum())# To check missing values\n",
    "print(products_df.info()) # to check the datatypes\n",
    "#Removing the special characters and coverting to numeric\n",
    "products_df['Unit Cost USD'] = products_df['Unit Cost USD'].str.replace(\"$\",\"\")\n",
    "products_df['Unit Cost USD'] = products_df['Unit Cost USD'].str.replace(\",\",\"\")\n",
    "products_df['Unit Cost USD'] = pd.to_numeric(products_df['Unit Cost USD'])\n",
    "\n",
    "products_df['Unit Price USD'] = products_df['Unit Price USD'].str.replace(\"$\",\"\")\n",
    "products_df['Unit Price USD'] = products_df['Unit Price USD'].str.replace(\",\",\"\")\n",
    "products_df['Unit Price USD'] = pd.to_numeric(products_df['Unit Price USD'])\n",
    "#Write the cleaned data into '.csv' file\n",
    "products_df.to_csv('CleanedProducts.csv')\n",
    "products_df"
   ]
  },
  {
   "cell_type": "code",
   "execution_count": null,
   "id": "02c8a0b6-708f-469d-a201-d96edef9caaa",
   "metadata": {},
   "outputs": [],
   "source": [
    "# 4.Data Cleaning and Preparation for Sales.csv\n",
    "#Load the data from Sales.csv in to the dataframe\n",
    "sales_df=pd.read_csv(r'C:\\Users\\USER\\Guvi python\\Dataspark\\Sales.csv',encoding='unicode_escape')\n",
    "print(sales_df.isnull().sum())# To check missing values\n",
    "print(sales_df.info()) # To check the datatypes\n",
    "#Changing the datatype for date columns\n",
    "sales_df['Order Date']=pd.to_datetime(sales_df['Order Date'],errors='coerce')\n",
    "sales_df['Delivery Date']=pd.to_datetime(sales_df['Delivery Date'],errors='coerce')\n",
    "# Interpolate to fill missing dates in the DataFrame\n",
    "sales_df['Delivery Date'] = sales_df['Delivery Date'].interpolate(method='pad')\n",
    "# Backfill the 'Delivery Date' column since the first value is null\n",
    "sales_df['Delivery Date'] = sales_df['Delivery Date'].fillna(method='bfill')\n",
    "#Write the cleaned data into '.csv' file\n",
    "sales_df.to_csv('CleanedSales.csv')\n",
    "sales_df"
   ]
  },
  {
   "cell_type": "code",
   "execution_count": null,
   "id": "0e029cee-ee57-407c-822d-0601dfe4e7ed",
   "metadata": {},
   "outputs": [],
   "source": [
    "# 5.Data Cleaning and Preparation for Stores.csv\n",
    "#Load the data from Stores.csv in to the dataframe\n",
    "stores_df=pd.read_csv(r'C:\\Users\\USER\\Guvi python\\Dataspark\\Stores.csv',encoding='unicode_escape')\n",
    "print(stores_df.isnull().sum())# To check missing values\n",
    "print(stores_df.info()) # To check the datatypes\n",
    "#print(stores_df[stores_df.isnull().any(axis=1)])\n",
    "stores_df['Square Meters'].fillna(0,inplace=True) # Assigned 0 for Online store\n",
    "\n",
    "#Change the datatype for int and date columns\n",
    "stores_df['Square Meters']=stores_df['Square Meters'].astype('int64')\n",
    "stores_df['Open Date']=pd.to_datetime(stores_df['Open Date'],errors='coerce')\n",
    "#Write the cleaned data into '.csv' file\n",
    "stores_df.to_csv('CleanedStores.csv')\n",
    "stores_df"
   ]
  },
  {
   "cell_type": "markdown",
   "id": "51be7214-3e37-4606-8748-3ac354668439",
   "metadata": {},
   "source": [
    "**Creating SQL connection and loading data**"
   ]
  },
  {
   "cell_type": "code",
   "execution_count": null,
   "id": "1f2d942d-c347-4456-8e33-41f6a6da2951",
   "metadata": {},
   "outputs": [],
   "source": [
    "#Install mysql connector\n",
    "!pip install mysql-connector-python"
   ]
  },
  {
   "cell_type": "code",
   "execution_count": null,
   "id": "2a76232f-6657-4d2b-8bd0-66594ddaed98",
   "metadata": {},
   "outputs": [],
   "source": [
    "#import and establish connection\n",
    "import mysql.connector\n",
    "#add in your db credentials\n",
    "con= mysql.connector.connect(\n",
    "        host='localhost',\n",
    "        user='root',\n",
    "        password='12345678'\n",
    "    , database='capstone'   #needed to connect to database directly once the database is created\n",
    ") \n",
    "cursor=con.cursor(buffered=True)\n",
    "cursor"
   ]
  },
  {
   "cell_type": "code",
   "execution_count": null,
   "id": "d8d7f371-d786-4fac-9add-07decc07f6b7",
   "metadata": {},
   "outputs": [],
   "source": [
    "#create a database\n",
    "query='create database Capstone'\n",
    "cursor.execute(query)"
   ]
  },
  {
   "cell_type": "code",
   "execution_count": null,
   "id": "729591da-fddf-44d9-aa8d-2d48e980bc2e",
   "metadata": {},
   "outputs": [],
   "source": [
    "#use the created database\n",
    "query='use capstone'\n",
    "cursor.execute(query)"
   ]
  },
  {
   "cell_type": "code",
   "execution_count": null,
   "id": "7107b6d2-5bc6-4133-a78b-dba7af4b4013",
   "metadata": {},
   "outputs": [],
   "source": [
    "#To check whether the correct database is selected\n",
    "query='select database()'\n",
    "cursor.execute(query)\n",
    "for db in cursor:\n",
    "    print(db)"
   ]
  },
  {
   "cell_type": "markdown",
   "id": "1020de38-5cf2-46ce-9e0b-09a3f2046b3f",
   "metadata": {},
   "source": [
    "**Create table**"
   ]
  },
  {
   "cell_type": "code",
   "execution_count": null,
   "id": "d51aaff7-8ae2-4c97-8923-3bb7c6eefe4f",
   "metadata": {},
   "outputs": [],
   "source": [
    "#1.Create a table Customers\n",
    "query='''create table Customers(CustomerKey INT PRIMARY KEY, Gender VARCHAR(10),Name VARCHAR(255),City VARCHAR(255),State VARCHAR(255),\n",
    "                                    Zip_Code VARCHAR(20),Country VARCHAR(255),Continent VARCHAR(255),Birthday DATETIME)'''\n",
    "cursor.execute(query)"
   ]
  },
  {
   "cell_type": "code",
   "execution_count": null,
   "id": "82e1fb25-2a63-48df-88a3-f26e9b991f7b",
   "metadata": {},
   "outputs": [],
   "source": [
    "#To check the table structure for Customers\n",
    "query=\"describe Customers\"\n",
    "cursor.execute(query)\n",
    "for data in cursor:\n",
    "    print(data)"
   ]
  },
  {
   "cell_type": "code",
   "execution_count": null,
   "id": "48212518-5232-491b-9ccf-5863bbf1c7d7",
   "metadata": {},
   "outputs": [],
   "source": [
    "#2.Create a table Exchange_rates\n",
    "query='''create table Exchange_rates(Date DATETIME,Currency_code VARCHAR(10),Exchange DECIMAL(10,4))'''\n",
    "cursor.execute(query)\n",
    "#To check the table structure for Exchange_rates\n",
    "query=\"describe Exchange_rates\"\n",
    "cursor.execute(query)\n",
    "for data in cursor:\n",
    "    print(data)"
   ]
  },
  {
   "cell_type": "code",
   "execution_count": null,
   "id": "d9e41b3f-88e2-4697-9ec8-a23a35b53dfb",
   "metadata": {},
   "outputs": [],
   "source": [
    "#3.Create a table Products\n",
    "query='''create table Products(ProductKey INT PRIMARY KEY, Product_Name VARCHAR(255), Brand VARCHAR(50), Color VARCHAR(50),\n",
    "                                Unit_Cost_USD DECIMAL(20,2),Unit_Price_USD DECIMAL(20,2), SubcategoryKey INT, \n",
    "                                Subcategory VARCHAR(50), CategoryKey INT,Category VARCHAR(50))'''\n",
    "cursor.execute(query)\n",
    "#To check the table structure for Products\n",
    "query=\"describe Products\"\n",
    "cursor.execute(query)\n",
    "for data in cursor:\n",
    "    print(data)"
   ]
  },
  {
   "cell_type": "code",
   "execution_count": null,
   "id": "7e755970-a064-4f01-b11b-1e0c0ed4ec0a",
   "metadata": {},
   "outputs": [],
   "source": [
    "#4. Create a Sales table\n",
    "query='''create table Sales(Order_Number INT NOT NULL,Line_Item INT NOT NULL, Order_Date DATETIME, Delivery_Date DATETIME,\n",
    "                            CustomerKey INT, StoreKey INT, ProductKey INT, Quantity INT, Currency_code VARCHAR(10),\n",
    "                               CONSTRAINT Sales_UC UNIQUE (Order_Number,Line_Item),\n",
    "                               FOREIGN KEY (CustomerKey) REFERENCES Customers(CustomerKey),\n",
    "                               FOREIGN KEY (StoreKey) REFERENCES Stores(StoreKey),\n",
    "                               FOREIGN KEY (ProductKey) REFERENCES Products(ProductKey)\n",
    "                               )'''\n",
    "cursor.execute(query)\n",
    "#To check the table structure for Stores\n",
    "query=\"describe Sales\"\n",
    "cursor.execute(query)\n",
    "for data in cursor:\n",
    "    print(data)"
   ]
  },
  {
   "cell_type": "code",
   "execution_count": null,
   "id": "7e7d4434-39bb-4e63-88f6-62d11d55d904",
   "metadata": {},
   "outputs": [],
   "source": [
    "#5.Create a table Stores\n",
    "query='''create table Stores(StoreKey INT PRIMARY KEY, Country VARCHAR(50), State VARCHAR(50), Square_Meters INT, Open_Date DATETIME)'''\n",
    "cursor.execute(query)\n",
    "#To check the table structure for Stores\n",
    "query=\"describe Stores\"\n",
    "cursor.execute(query)\n",
    "for data in cursor:\n",
    "    print(data)"
   ]
  },
  {
   "cell_type": "markdown",
   "id": "58abdb56-66e8-41e2-b2f7-a017cbe1a1da",
   "metadata": {},
   "source": [
    "**Loading Data**"
   ]
  },
  {
   "cell_type": "code",
   "execution_count": null,
   "id": "34dade1e-1b2d-4c52-b4fc-5f27f0aefb90",
   "metadata": {},
   "outputs": [],
   "source": [
    "#1.Insert data into Customers table\n",
    "\n",
    "query='''insert into Customers(CustomerKey,Gender,Name,City,State,Zip_Code,Country,Continent,Birthday) \n",
    "                                values(%s,%s,%s,%s,%s,%s,%s,%s,%s)'''\n",
    "# Insert data into the table\n",
    "for index, row in customer_df.iterrows():\n",
    "    values = (row['CustomerKey'], row['Gender'], row['Name'],row['City'], row['State'], \n",
    "              row['Zip Code'],row['Country'], row['Continent'], row['Birthday'])\n",
    "    cursor.execute(query, values)\n",
    "\n",
    "# Commit changes and close the connection\n",
    "con.commit() "
   ]
  },
  {
   "cell_type": "code",
   "execution_count": null,
   "id": "bdf70a86-a3d4-46d9-bc30-9dae622f47cb",
   "metadata": {},
   "outputs": [],
   "source": [
    "#2.Insert data into Exchange_rates table\n",
    "\n",
    "query='''insert into Exchange_rates(Date,Currency_code,Exchange) values(%s,%s,%s)'''\n",
    "# Insert data into the table\n",
    "for index, row in exchange_rates_df.iterrows():\n",
    "    values = (row['Date'], row['Currency code'], row['Exchange'])\n",
    "    cursor.execute(query, values)\n",
    "\n",
    "# Commit changes and close the connection\n",
    "con.commit() "
   ]
  },
  {
   "cell_type": "code",
   "execution_count": null,
   "id": "891ee2e8-6b46-4a48-8844-d73a6dc35241",
   "metadata": {},
   "outputs": [],
   "source": [
    "#3.Insert data into Products table\n",
    "\n",
    "query='''insert into Products(ProductKey, Product_Name, Brand, Color, Unit_Cost_USD, Unit_Price_USD, SubcategoryKey, Subcategory, \n",
    "                                    CategoryKey, Category) values(%s,%s,%s,%s,%s,%s,%s,%s,%s,%s)'''\n",
    "# Insert data into the table\n",
    "for index, row in products_df.iterrows():\n",
    "    values = (row['ProductKey'], row['Product Name'], row['Brand'],row['Color'], row['Unit Cost USD'], row['Unit Price USD'],\n",
    "              row['SubcategoryKey'], row['Subcategory'], row['CategoryKey'],row['Category'])\n",
    "    cursor.execute(query, values)\n",
    "\n",
    "# Commit changes and close the connection\n",
    "con.commit() "
   ]
  },
  {
   "cell_type": "code",
   "execution_count": null,
   "id": "c3cc677e-2ab3-4fe7-9ecb-7cf391b99192",
   "metadata": {},
   "outputs": [],
   "source": [
    "#4.Insert data into Sales table\n",
    "\n",
    "query='''insert into Sales(Order_Number, Line_Item, Order_Date, Delivery_Date,CustomerKey, StoreKey, ProductKey, Quantity, Currency_Code) \n",
    "                            values(%s,%s,%s,%s,%s,%s,%s,%s,%s)'''\n",
    "# Insert data into the table\n",
    "for index, row in sales_df.iterrows():\n",
    "    values = (row['Order Number'], row['Line Item'], row['Order Date'],row['Delivery Date'], row['CustomerKey'], row['StoreKey'],\n",
    "              row['ProductKey'], row['Quantity'], row['Currency Code'])\n",
    "    cursor.execute(query, values)\n",
    "\n",
    "# Commit changes and close the connection\n",
    "con.commit() "
   ]
  },
  {
   "cell_type": "code",
   "execution_count": null,
   "id": "86d3ff60-fd1b-48d1-a892-3f1ba3fb25a9",
   "metadata": {},
   "outputs": [],
   "source": [
    "#5.Insert data into Stores table\n",
    "\n",
    "query='''insert into Stores(StoreKey, Country, State, Square_Meters, Open_Date) values(%s,%s,%s,%s,%s)'''\n",
    "# Insert data into the table\n",
    "for index, row in stores_df.iterrows():\n",
    "    values = (row['StoreKey'], row['Country'], row['State'],row['Square Meters'], row['Open Date'])\n",
    "    cursor.execute(query, values)\n",
    "\n",
    "# Commit changes and close the connection\n",
    "con.commit() "
   ]
  },
  {
   "cell_type": "markdown",
   "id": "3a91b0a1-c569-4562-991a-d420d4c0934e",
   "metadata": {},
   "source": [
    "**Viewing the table contents**"
   ]
  },
  {
   "cell_type": "code",
   "execution_count": null,
   "id": "552dbeed-c463-4882-ae1e-612d3ddb9bc7",
   "metadata": {},
   "outputs": [],
   "source": [
    "#1.View Customers table\n",
    "query='select * from Customers'\n",
    "cursor.execute(query)\n",
    "for data in cursor:\n",
    "    print(data)"
   ]
  },
  {
   "cell_type": "code",
   "execution_count": null,
   "id": "072fec4a-3659-4e5b-aea8-4e7395812a75",
   "metadata": {},
   "outputs": [],
   "source": [
    "#2.View Exchange_rates table\n",
    "query='select * from Exchange_rates'\n",
    "cursor.execute(query)\n",
    "for data in cursor:\n",
    "    print(data)"
   ]
  },
  {
   "cell_type": "code",
   "execution_count": null,
   "id": "d22ca62a-551e-4020-96c2-0070e35f62b1",
   "metadata": {},
   "outputs": [],
   "source": [
    "#3.View Products table\n",
    "query='select * from Products'\n",
    "cursor.execute(query)\n",
    "for data in cursor:\n",
    "    print(data)"
   ]
  },
  {
   "cell_type": "code",
   "execution_count": null,
   "id": "dd9f9015-3c43-4b85-9460-e62d95d3e061",
   "metadata": {},
   "outputs": [],
   "source": [
    "#4.View Sales table\n",
    "query='select count(*) from Sales'\n",
    "cursor.execute(query)\n",
    "for data in cursor:\n",
    "    print(data)"
   ]
  },
  {
   "cell_type": "code",
   "execution_count": null,
   "id": "8dc6fc36-fc01-4a3e-8e72-55037df12566",
   "metadata": {},
   "outputs": [],
   "source": [
    "#5.View Stores table\n",
    "query='select * from Stores'\n",
    "cursor.execute(query)\n",
    "for data in cursor:\n",
    "    print(data)"
   ]
  },
  {
   "cell_type": "code",
   "execution_count": null,
   "id": "2e5c4396-c0e5-4f01-bfb7-a121ea1425e4",
   "metadata": {},
   "outputs": [],
   "source": [
    "#Merging datasets where necessary for analysis\n",
    "import pandas as pd\n",
    "merged_df = pd.merge(sales_df, exchange_rates_df, how='inner', left_on=['Order Date', 'Currency Code'], right_on=['Date', 'Currency Code'])\n",
    "merged_df = merged_df.merge(stores_df, on='StoreKey').merge(products_df, on='ProductKey').merge(customer_df, on='CustomerKey')\n",
    "merged_df.to_csv('salesinfo.csv')"
   ]
  },
  {
   "cell_type": "code",
   "execution_count": null,
   "id": "f9d6a23b-a19d-4999-84d9-bee4dbabde5f",
   "metadata": {},
   "outputs": [],
   "source": [
    "merged_df"
   ]
  },
  {
   "cell_type": "code",
   "execution_count": null,
   "id": "0354f569-1f68-41a0-9e61-cb6ce5639b22",
   "metadata": {},
   "outputs": [],
   "source": [
    "# !pip install plotly\n",
    "import matplotlib.pyplot as plt\n",
    "# Extract year\n",
    "merged_df['Year'] = merged_df['Order Date'].dt.year\n",
    "\n",
    "# Calculate total sales (Quantity * Unit Price USD)\n",
    "merged_df['Total Sales'] = merged_df['Quantity'] * merged_df['Unit Price USD']\n",
    "\n",
    "# Group by year and sum total sales\n",
    "yearly_sum = merged_df.groupby('Year')['Total Sales'].sum().reset_index()\n",
    "\n",
    "# Line plot to see Year vs Yearly Sales details \n",
    "plt.plot(yearly_sum['Year'], yearly_sum['Total Sales'], color='blue', linestyle='solid', marker='*')\n",
    "plt.grid(True)\n",
    "plt.xlabel(\"Year\")\n",
    "plt.ylabel(\"Total Sales (USD)\")\n",
    "plt.title(\"Total Sales by Year\")\n",
    "plt.xticks(yearly_sum['Year'])  # Ensure all years are labeled\n",
    "plt.tight_layout()\n",
    "plt.show()"
   ]
  },
  {
   "cell_type": "code",
   "execution_count": null,
   "id": "db598579-3196-4f89-bca4-16ad7ab8ccfc",
   "metadata": {},
   "outputs": [],
   "source": []
  }
 ],
 "metadata": {
  "kernelspec": {
   "display_name": "Python 3 (ipykernel)",
   "language": "python",
   "name": "python3"
  },
  "language_info": {
   "codemirror_mode": {
    "name": "ipython",
    "version": 3
   },
   "file_extension": ".py",
   "mimetype": "text/x-python",
   "name": "python",
   "nbconvert_exporter": "python",
   "pygments_lexer": "ipython3",
   "version": "3.12.4"
  }
 },
 "nbformat": 4,
 "nbformat_minor": 5
}
